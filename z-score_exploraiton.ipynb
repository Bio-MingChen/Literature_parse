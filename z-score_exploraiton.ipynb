{
 "cells": [
  {
   "cell_type": "code",
   "execution_count": 1,
   "metadata": {},
   "outputs": [],
   "source": [
    "import pandas as pd\n",
    "import numpy as np"
   ]
  },
  {
   "cell_type": "markdown",
   "metadata": {},
   "source": [
    "![alt text](image-3.png)"
   ]
  },
  {
   "cell_type": "code",
   "execution_count": 6,
   "metadata": {},
   "outputs": [],
   "source": [
    "def z_score(array):\n",
    "    z = array.mean()\n",
    "    delta = array.std()\n",
    "    return (array - z) / delta"
   ]
  },
  {
   "cell_type": "code",
   "execution_count": 7,
   "metadata": {},
   "outputs": [
    {
     "name": "stdout",
     "output_type": "stream",
     "text": [
      "[-1.41421356 -0.70710678  0.          0.70710678  1.41421356]\n"
     ]
    }
   ],
   "source": [
    "\n",
    "heights = [165, 170, 175, 180, 185]\n",
    "heights = np.array(heights)\n",
    "z = z_score(heights)\n",
    "print(z)"
   ]
  },
  {
   "cell_type": "markdown",
   "metadata": {},
   "source": [
    "![alt text](image-2.png)\n",
    "![alt text](image-4.png)"
   ]
  },
  {
   "cell_type": "code",
   "execution_count": 17,
   "metadata": {},
   "outputs": [
    {
     "name": "stdout",
     "output_type": "stream",
     "text": [
      "马氏距离平方 D2：5.1250\n",
      "马氏距离 D：2.2638\n"
     ]
    }
   ],
   "source": [
    "x = np.array([[14],[25]])\n",
    "mu = np.array([[10],[20]])\n",
    "S = np.array([[4,2],[2,9]])\n",
    "\n",
    "d = x - mu\n",
    "\n",
    "S_inv = np.linalg.inv(S)\n",
    "\n",
    "D_squared = (d.T @ S_inv @ d)[0,0]\n",
    "\n",
    "D = np.sqrt(D_squared)\n",
    "\n",
    "print(f\"马氏距离平方 D2：{D_squared:.4f}\")\n",
    "print(f\"马氏距离 D：{D:.4f}\")"
   ]
  },
  {
   "cell_type": "code",
   "execution_count": 16,
   "metadata": {},
   "outputs": [
    {
     "name": "stdout",
     "output_type": "stream",
     "text": [
      "30\n"
     ]
    }
   ],
   "source": [
    "# 计算欧几里得距离\n",
    "z = np.array([1,2,3,4])\n",
    "print(z.T @ z)\n"
   ]
  },
  {
   "cell_type": "code",
   "execution_count": null,
   "metadata": {},
   "outputs": [],
   "source": []
  }
 ],
 "metadata": {
  "kernelspec": {
   "display_name": "scanpy_env",
   "language": "python",
   "name": "python3"
  },
  "language_info": {
   "codemirror_mode": {
    "name": "ipython",
    "version": 3
   },
   "file_extension": ".py",
   "mimetype": "text/x-python",
   "name": "python",
   "nbconvert_exporter": "python",
   "pygments_lexer": "ipython3",
   "version": "3.11.12"
  }
 },
 "nbformat": 4,
 "nbformat_minor": 2
}
